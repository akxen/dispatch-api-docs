{
 "cells": [
  {
   "cell_type": "markdown",
   "id": "consolidated-clock",
   "metadata": {},
   "source": [
    "# Scenario analysis - creating a line plot\n",
    "\n",
    "The ability to examine relationships between system parameters and system variables is a powerful capability offered by the Dispatch API. This notebook outlines a workflow that can be used to perform ex-post scenario analyses using historical case file data. While the following sections examine how changes to demand forecasts would likely influences prices in a given region, the same principles can be applied to examine other relationships.\n",
    "\n",
    "## Imports and authentication"
   ]
  },
  {
   "cell_type": "code",
   "execution_count": 1,
   "id": "comic-intake",
   "metadata": {},
   "outputs": [],
   "source": [
    "import os\n",
    "import json\n",
    "\n",
    "import requests\n",
    "import xmltodict\n",
    "import matplotlib.pyplot as plt\n",
    "from jsonpath_ng import jsonpath\n",
    "from jsonpath_ng.ext import parse\n",
    "\n",
    "# Base URL endpoint for the Dispatch API\n",
    "base_url = 'http://nemde-api-host:8080/api/v1/'"
   ]
  },
  {
   "cell_type": "markdown",
   "id": "informative-marine",
   "metadata": {},
   "source": [
    "## Load case file\n",
    "We need some data to work with, so let's proceed by downloading a case file."
   ]
  },
  {
   "cell_type": "code",
   "execution_count": 2,
   "id": "sized-patio",
   "metadata": {},
   "outputs": [],
   "source": [
    "def convert_casefile(path_to_file):\n",
    "    \"\"\"Load a historical NEMDE case file and convert it to a dict\"\"\"\n",
    "\n",
    "    # Read case file contents\n",
    "    with open(path_to_file, 'r') as f:\n",
    "        casefile = f.read()\n",
    "\n",
    "    # Force these nodes to always return lists\n",
    "    force_list = ('Trade', 'TradeTypePriceStructure',)\n",
    "\n",
    "    return xmltodict.parse(casefile, force_list=force_list)\n",
    "\n",
    "\n",
    "def load_casefile(case_id):\n",
    "    \"\"\"Load case file\"\"\"\n",
    "    \n",
    "    # Load case file and convert to JSON\n",
    "    casefile = convert_casefile(f'../../data/NEMSPDOutputs_{case_id}00.loaded')\n",
    "   \n",
    "    return casefile\n",
    "\n",
    "# Load case file\n",
    "case_id = '20210401001'\n",
    "casefile = load_casefile(case_id=case_id)"
   ]
  },
  {
   "cell_type": "markdown",
   "id": "average-fisher",
   "metadata": {},
   "source": [
    "## Approach\n",
    "It is always a good idea to separate data from logic. Let's treat the case file that we saved to disk as our canonical 'source of truth', with this 'base' case file loaded before performing each update. As this case file will never be overwritten we can be sure we're using the same data before making updates, thus reducing the possibilty of introducing unintended changes.\n",
    "\n",
    "The following function reads the base case file from disk then updates the Demand Forecast (`@DF`) parameter for South Australia. This allows us to investigate how prices respond to changes in anticipated demand."
   ]
  },
  {
   "cell_type": "code",
   "execution_count": 3,
   "id": "plain-miami",
   "metadata": {},
   "outputs": [],
   "source": [
    "def update_region_demand_forecast(case_id, region_id, value):\n",
    "    \"\"\"Load case file and update demand forecast for a given region\"\"\"\n",
    "    \n",
    "    # Load case file\n",
    "    load_casefile(case_id=case_id)\n",
    "\n",
    "    # Construct expression\n",
    "    expression = (f\"NEMSPDCaseFile \\\n",
    "                  .NemSpdInputs \\\n",
    "                  .PeriodCollection \\\n",
    "                  .Period \\\n",
    "                  .RegionPeriodCollection \\\n",
    "                  .RegionPeriod[?(@RegionID=='{region_id}')] \\\n",
    "                  .@DF\")\n",
    "\n",
    "    # Construct JSON path expression\n",
    "    jsonpath_expr = parse(expression)\n",
    "\n",
    "    # Update value\n",
    "    _ = jsonpath_expr.update(casefile, value)\n",
    "    \n",
    "    return casefile"
   ]
  },
  {
   "cell_type": "markdown",
   "id": "fiscal-greek",
   "metadata": {},
   "source": [
    "Jobs are submitted to the online queue, with each job having a different `@DF` value. Job IDs will be used to map `@DF` parameters to results once they are available."
   ]
  },
  {
   "cell_type": "code",
   "execution_count": 4,
   "id": "polished-montana",
   "metadata": {},
   "outputs": [],
   "source": [
    "def submit_jobs(base_url, region_id, values):\n",
    "    \"\"\"Submit jobs to online queue\"\"\"\n",
    "    \n",
    "    jobs = []\n",
    "    for i in values:\n",
    "        # Construct request body - using augmented casefiles\n",
    "        body = {\"casefile\": update_region_demand_forecast(case_id='20210401001', region_id=region_id, value=i)}\n",
    "\n",
    "        # Submit request and extract job ID\n",
    "        url = base_url + 'jobs/create'\n",
    "        response = requests.post(url=url, json=body)\n",
    "        job_info = response.json()\n",
    "\n",
    "        # Construct a map between the job ID, job info and the value of the parameter used in the analysis\n",
    "        jobs.append({'job_info': job_info, 'demand_forecast': i})\n",
    "\n",
    "    return jobs\n",
    "\n",
    "# Demand forecast parameters\n",
    "values = [-50, -40, -30, -20, -10, 0, 10, 20, 30, 40, 50]\n",
    "jobs = submit_jobs(base_url=base_url, region_id='SA1', values=values)"
   ]
  },
  {
   "cell_type": "markdown",
   "id": "manufactured-joining",
   "metadata": {},
   "source": [
    "We can check the status of all our jobs by using the following endpoint:\n",
    "\n",
    "`http://nemde-api-host/api/v1/jobs/status/list`"
   ]
  },
  {
   "cell_type": "code",
   "execution_count": 5,
   "id": "removable-section",
   "metadata": {},
   "outputs": [
    {
     "data": {
      "text/plain": [
       "[{'job_id': '774da812-739b-4dad-aeae-b3211d011863',\n",
       "  'status': 'finished',\n",
       "  'created_at': '2021-08-07T14:03:45.044224Z',\n",
       "  'enqueued_at': '2021-08-07T14:03:45.221426Z',\n",
       "  'started_at': '2021-08-07T14:05:55.521917Z',\n",
       "  'ended_at': '2021-08-07T14:06:46.836269Z',\n",
       "  'timeout': '180',\n",
       "  'label': None},\n",
       " {'job_id': '77ce2242-2fc7-47d2-abfe-b314e27e275a',\n",
       "  'status': 'finished',\n",
       "  'created_at': '2021-08-07T14:03:42.545729Z',\n",
       "  'enqueued_at': '2021-08-07T14:03:42.707600Z',\n",
       "  'started_at': '2021-08-07T14:05:54.574736Z',\n",
       "  'ended_at': '2021-08-07T14:06:48.632590Z',\n",
       "  'timeout': '180',\n",
       "  'label': None},\n",
       " {'job_id': 'e8a0778f-efc8-41d9-93f5-ba14050e3fb6',\n",
       "  'status': 'finished',\n",
       "  'created_at': '2021-08-07T14:03:40.214655Z',\n",
       "  'enqueued_at': '2021-08-07T14:03:40.394830Z',\n",
       "  'started_at': '2021-08-07T14:05:08.473547Z',\n",
       "  'ended_at': '2021-08-07T14:05:59.321272Z',\n",
       "  'timeout': '180',\n",
       "  'label': None}]"
      ]
     },
     "execution_count": 5,
     "metadata": {},
     "output_type": "execute_result"
    }
   ],
   "source": [
    "def get_status(base_url):\n",
    "    \"\"\"Get status of all jobs\"\"\"\n",
    "\n",
    "    url = base_url + 'jobs/status/list'\n",
    "    response = requests.get(url=url)\n",
    "    status = response.json()\n",
    "    \n",
    "    return status\n",
    "\n",
    "\n",
    "# Get job status list\n",
    "status = get_status(base_url=base_url)\n",
    "\n",
    "# Only printing the first three jobs (to save space)\n",
    "status[:3]    "
   ]
  },
  {
   "cell_type": "markdown",
   "id": "recent-enterprise",
   "metadata": {},
   "source": [
    "## Retrieve results\n",
    "Once the jobs have finished their results can be retrieved from the queue."
   ]
  },
  {
   "cell_type": "code",
   "execution_count": 6,
   "id": "according-bible",
   "metadata": {},
   "outputs": [
    {
     "name": "stdout",
     "output_type": "stream",
     "text": [
      "Job results URL: http://nemde-api-host:8080/api/v1/jobs/666977c2-8a78-4638-8918-2025ee351ec4/results\n",
      "Job results URL: http://nemde-api-host:8080/api/v1/jobs/a912dc3c-0442-4124-8748-e6297b4fdcfb/results\n",
      "Job results URL: http://nemde-api-host:8080/api/v1/jobs/cb2d578b-ba38-4476-8a1c-149eae2d0adc/results\n",
      "Job results URL: http://nemde-api-host:8080/api/v1/jobs/24ba0574-00c2-4ebd-8a27-499a51c32abc/results\n",
      "Job results URL: http://nemde-api-host:8080/api/v1/jobs/7130a5e6-b42a-4919-8649-fcc015e15105/results\n",
      "Job results URL: http://nemde-api-host:8080/api/v1/jobs/367d793c-4eb3-43eb-8194-23aadea70c6a/results\n",
      "Job results URL: http://nemde-api-host:8080/api/v1/jobs/09c6be74-f033-4661-a53f-af2d8c1d0094/results\n",
      "Job results URL: http://nemde-api-host:8080/api/v1/jobs/9cea60f0-e9b2-4dc2-84fb-03c917a00bcc/results\n",
      "Job results URL: http://nemde-api-host:8080/api/v1/jobs/e8a0778f-efc8-41d9-93f5-ba14050e3fb6/results\n",
      "Job results URL: http://nemde-api-host:8080/api/v1/jobs/77ce2242-2fc7-47d2-abfe-b314e27e275a/results\n",
      "Job results URL: http://nemde-api-host:8080/api/v1/jobs/774da812-739b-4dad-aeae-b3211d011863/results\n"
     ]
    }
   ],
   "source": [
    "def get_job_results(base_url, job_ids):\n",
    "    \"\"\"Get job results\"\"\"\n",
    "    \n",
    "    results = []\n",
    "    for job_id in job_ids:\n",
    "        # Construct URL used to obtain results\n",
    "        url = base_url + f'jobs/{job_id}/results'\n",
    "        print(\"Job results URL:\", url)\n",
    "\n",
    "        # Submit request and retrieve job results\n",
    "        response = requests.get(url=url)\n",
    "        results.append(response.json())\n",
    "        \n",
    "    return results\n",
    "\n",
    "\n",
    "# Get all job IDs for which results should be returned\n",
    "job_ids = [i.get('job_info').get('job_id') for i in jobs]\n",
    "\n",
    "# Retrieve job results from queue\n",
    "job_results = get_job_results(base_url=base_url, job_ids=job_ids)"
   ]
  },
  {
   "cell_type": "markdown",
   "id": "historical-mainstream",
   "metadata": {},
   "source": [
    "The following function searches a results dictionary for the energy price corresponding to a given region. This will allow us to examine how the energy price changes as the `@DF` parameter is augmented."
   ]
  },
  {
   "cell_type": "code",
   "execution_count": 7,
   "id": "normal-notification",
   "metadata": {},
   "outputs": [],
   "source": [
    "def get_region_energy_price(results, region_id):\n",
    "    \"\"\"Extract energy price from results dictionary\"\"\"\n",
    "    \n",
    "    expression = (f\"results \\\n",
    "                  .output \\\n",
    "                  .RegionSolution[?(@RegionID='{region_id}')] \\\n",
    "                  .@EnergyPrice\")\n",
    "\n",
    "    jsonpath_expr = parse(expression)   \n",
    "    values = [match.value for match in jsonpath_expr.find(results)]\n",
    "    \n",
    "    # Only one value should be returned\n",
    "    if len(values) != 1:\n",
    "        msg = f\"Should only return 1 value, encountered: {len(values)} {region_id}\"\n",
    "        raise Exception(msg)\n",
    "\n",
    "    return values[0]"
   ]
  },
  {
   "cell_type": "markdown",
   "id": "instant-height",
   "metadata": {},
   "source": [
    "Job IDs are used to map Demand Forecast parameters to price outcomes."
   ]
  },
  {
   "cell_type": "code",
   "execution_count": 8,
   "id": "psychological-coral",
   "metadata": {},
   "outputs": [],
   "source": [
    "def map_parameters_to_prices(jobs, results, region_id):\n",
    "    \"\"\"Map demand forecast parameters to energy prices\"\"\"\n",
    "    \n",
    "    # Key = job_id, value = Demand Forecast parameter\n",
    "    demand_forecast = {job.get('job_info').get('job_id'): job.get('demand_forecast')\n",
    "                      for job in jobs}\n",
    "    \n",
    "    # Energy prices indexed by job ID\n",
    "    prices = {result.get('job_id'): get_region_energy_price(results=result, region_id=region_id) \n",
    "              for result in results}\n",
    "    \n",
    "    # Combine into list of tuples [(demand_forecast, price), ...]\n",
    "    values = [(demand_forecast.get(job_id), prices.get(job_id)) \n",
    "              for job_id in prices.keys()]\n",
    "    \n",
    "    return sorted(values, key=lambda x: x[0])\n",
    "\n",
    "\n",
    "# Price results\n",
    "price_results = map_parameters_to_prices(jobs=jobs, results=job_results, region_id='SA1')"
   ]
  },
  {
   "cell_type": "markdown",
   "id": "continent-microwave",
   "metadata": {},
   "source": [
    "The results can be plotted to reveal the relationship between `@DF` values and energy prices in South Australia."
   ]
  },
  {
   "cell_type": "code",
   "execution_count": 9,
   "id": "banner-client",
   "metadata": {},
   "outputs": [
    {
     "data": {
      "image/png": "[encoded data removed]",
      "text/plain": [
       "<Figure size 432x288 with 1 Axes>"
      ]
     },
     "metadata": {
      "needs_background": "light"
     },
     "output_type": "display_data"
    }
   ],
   "source": [
    "# Unzip for plotting\n",
    "x, y = zip(*price_results)\n",
    "\n",
    "# Plotting results\n",
    "fig, ax = plt.subplots()\n",
    "ax.plot(x, y,'o', alpha=0.7, color='b')\n",
    "ax.plot(x, y,'-', alpha=0.7, color='r')\n",
    "ax.set_title('SA energy price response to changes in Demand Forecast')\n",
    "ax.set_xlabel('SA Demand Forecast (MW)')\n",
    "ax.set_ylabel('SA Energy Price ($/MWh)')\n",
    "plt.show()"
   ]
  },
  {
   "cell_type": "markdown",
   "id": "electrical-chorus",
   "metadata": {},
   "source": [
    "The plot illustrates the range of `@DF` values over which the energy price in South Australia is unaffected, and also the `@DF` values which begin to alter prices. This type of analysis can help identify how sensitive prices are to changes in demand.\n",
    "\n",
    "## Summary\n",
    "This notebook outlines a workflow that can be used to perform sensitivity analyses. Relationships between other parameters and variables can be readily investigated, making the Dispatch API a flexibile tool that can facilitate a number of different studies. For instance, one may wish to know how prices or other system variables are impacted by a contingency such as sudden reduction in interconnector power flow limits, or the tripping of a generator.\n",
    "\n",
    "While this tutorial has used historical data to perform an ex-post sensitivity analysis, the Dispatch API can also be used with customised case files. This lends the Dispatch API to a number of forecasting applications - user supplied forecasts for case file parameters could allow sensitivies to be computed in real time."
   ]
  }
 ],
 "metadata": {
  "kernelspec": {
   "display_name": "python39",
   "language": "python",
   "name": "python39"
  },
  "language_info": {
   "codemirror_mode": {
    "name": "ipython",
    "version": 3
   },
   "file_extension": ".py",
   "mimetype": "text/x-python",
   "name": "python",
   "nbconvert_exporter": "python",
   "pygments_lexer": "ipython3",
   "version": "3.9.2"
  }
 },
 "nbformat": 4,
 "nbformat_minor": 5
}
