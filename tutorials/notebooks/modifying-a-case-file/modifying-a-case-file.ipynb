{
 "cells": [
  {
   "cell_type": "markdown",
   "id": "adjustable-protein",
   "metadata": {},
   "source": [
    "# Modifying a case file\n",
    "\n",
    "The Dispatch API allows users to perform numerical experiments. By augmenting a selected case file parameter, while keeping all other parameters constant, the relationship between dispatch outcomes and the parameter under investigation can be examined.\n",
    "\n",
    "The following sections discuss strategies that can be used to modify case files. While this notebook uses Python, it's possible to use other programming languages and workflows. The Dispatch API simply expects data in JSON format - so long as the inputs are correctly structured, the API is agnostic as to the technology used to edit and submit the case file.\n",
    "\n",
    "## Imports and authentication"
   ]
  },
  {
   "cell_type": "code",
   "execution_count": 3,
   "id": "heard-christmas",
   "metadata": {},
   "outputs": [],
   "source": [
    "import os\n",
    "import json\n",
    "\n",
    "import requests\n",
    "import xmltodict\n",
    "import pandas as pd\n",
    "from jsonpath_ng import jsonpath\n",
    "from jsonpath_ng.ext import parse\n",
    "\n",
    "# Base URL endpoint for the Dispatch API\n",
    "base_url = 'http://nemde-api-host:8080/api/v1/'"
   ]
  },
  {
   "cell_type": "markdown",
   "id": "lonely-archives",
   "metadata": {},
   "source": [
    "## Approach\n",
    "Case files contain tens of thousands of parameters. While it's possible to design a completely customised case file, users should note the Dispatch API expects case files to be submitted in a standard format. Errors introduced when constructing a case file will almost certainly result in the model failing to return a solution.\n",
    "\n",
    "For now let's use data from a historical case file and only modify selected components. We can proceed by first loading a case file."
   ]
  },
  {
   "cell_type": "code",
   "execution_count": 4,
   "id": "renewable-symphony",
   "metadata": {},
   "outputs": [],
   "source": [
    "def convert_casefile(path_to_file):\n",
    "    \"\"\"Load a historical NEMDE case file and convert it to a dict\"\"\"\n",
    "    \n",
    "    # Read case file contents\n",
    "    with open(path_to_file, 'r') as f:\n",
    "        casefile = f.read()\n",
    "    \n",
    "    # Force these nodes to always return lists\n",
    "    force_list = ('Trade', 'TradeTypePriceStructure',)\n",
    "\n",
    "    return xmltodict.parse(casefile, force_list=force_list)\n",
    "\n",
    "\n",
    "# Load case file and convert to JSON\n",
    "casefile = convert_casefile('../../data/NEMSPDOutputs_2021040100100.loaded')"
   ]
  },
  {
   "cell_type": "markdown",
   "id": "intended-density",
   "metadata": {},
   "source": [
    "## Method 1 - Traverse dictionary\n",
    "The simplest strategy is to traverse the case file dictionary and update parameters directly. The [parameter reference page](/nemde-api-docs/parameter-reference) can be used to see which parameters can be meaningfully updated.\n",
    "\n",
    "Let's update the Demand Forecast (`@DF`) parameter for South Australia as an example. This parameter corresponds to the amount by which demand is expected to change over the dispatch interval. From the [parameter reference page](/nemde-api-docs/parameter-reference/#demand-forecast) we can see the path to this parameter is as follows:\n",
    "\n",
    "```\n",
    "NEMSPDCaseFile.NemSpdInputs.PeriodCollection.Period.RegionPeriodCollection.RegionPeriod[?(@RegionID=\"{region_id}\")].@DF\n",
    "```\n",
    "\n",
    "Using this path we can traverse nodes within the dictionary:"
   ]
  },
  {
   "cell_type": "code",
   "execution_count": 5,
   "id": "inappropriate-ideal",
   "metadata": {},
   "outputs": [
    {
     "data": {
      "text/plain": [
       "[OrderedDict([('@RegionID', 'NSW1'),\n",
       "              ('@DF', '50.11376953125'),\n",
       "              ('@DemandForecast', '6575.22802734375'),\n",
       "              ('@Suspension_Schedule_Energy_Price', '34.66'),\n",
       "              ('@Suspension_Schedule_R6_Price', '1.01'),\n",
       "              ('@Suspension_Schedule_R60_Price', '1.41'),\n",
       "              ('@Suspension_Schedule_R5_Price', '0.76'),\n",
       "              ('@Suspension_Schedule_RReg_Price', '11.18'),\n",
       "              ('@Suspension_Schedule_L6_Price', '0.45'),\n",
       "              ('@Suspension_Schedule_L60_Price', '1.19'),\n",
       "              ('@Suspension_Schedule_L5_Price', '0.39'),\n",
       "              ('@Suspension_Schedule_LReg_Price', '9.72')]),\n",
       " OrderedDict([('@RegionID', 'QLD1'),\n",
       "              ('@DF', '1.39823298286458'),\n",
       "              ('@DemandForecast', '5362.80249'),\n",
       "              ('@Suspension_Schedule_Energy_Price', '35.01'),\n",
       "              ('@Suspension_Schedule_R6_Price', '1.01'),\n",
       "              ('@Suspension_Schedule_R60_Price', '1.41'),\n",
       "              ('@Suspension_Schedule_R5_Price', '0.76'),\n",
       "              ('@Suspension_Schedule_RReg_Price', '11.18'),\n",
       "              ('@Suspension_Schedule_L6_Price', '0.45'),\n",
       "              ('@Suspension_Schedule_L60_Price', '1.19'),\n",
       "              ('@Suspension_Schedule_L5_Price', '0.39'),\n",
       "              ('@Suspension_Schedule_LReg_Price', '9.72')]),\n",
       " OrderedDict([('@RegionID', 'SA1'),\n",
       "              ('@DF', '5.0419807434082'),\n",
       "              ('@DemandForecast', '1075.27025222778'),\n",
       "              ('@Suspension_Schedule_Energy_Price', '32.23'),\n",
       "              ('@Suspension_Schedule_R6_Price', '1.01'),\n",
       "              ('@Suspension_Schedule_R60_Price', '1.41'),\n",
       "              ('@Suspension_Schedule_R5_Price', '0.76'),\n",
       "              ('@Suspension_Schedule_RReg_Price', '11.18'),\n",
       "              ('@Suspension_Schedule_L6_Price', '0.39'),\n",
       "              ('@Suspension_Schedule_L60_Price', '2.93'),\n",
       "              ('@Suspension_Schedule_L5_Price', '0.37'),\n",
       "              ('@Suspension_Schedule_LReg_Price', '9.7')]),\n",
       " OrderedDict([('@RegionID', 'TAS1'),\n",
       "              ('@DF', '2.3228759765625'),\n",
       "              ('@DemandForecast', '997.246337890625'),\n",
       "              ('@Suspension_Schedule_Energy_Price', '26.84'),\n",
       "              ('@Suspension_Schedule_R6_Price', '9.46'),\n",
       "              ('@Suspension_Schedule_R60_Price', '8.99'),\n",
       "              ('@Suspension_Schedule_R5_Price', '0.91'),\n",
       "              ('@Suspension_Schedule_RReg_Price', '11.16'),\n",
       "              ('@Suspension_Schedule_L6_Price', '1.27'),\n",
       "              ('@Suspension_Schedule_L60_Price', '2.21'),\n",
       "              ('@Suspension_Schedule_L5_Price', '0.35'),\n",
       "              ('@Suspension_Schedule_LReg_Price', '9.15')]),\n",
       " OrderedDict([('@RegionID', 'VIC1'),\n",
       "              ('@DF', '49.33447265625'),\n",
       "              ('@DemandForecast', '4157.650390625'),\n",
       "              ('@Suspension_Schedule_Energy_Price', '22.54'),\n",
       "              ('@Suspension_Schedule_R6_Price', '1.01'),\n",
       "              ('@Suspension_Schedule_R60_Price', '1.41'),\n",
       "              ('@Suspension_Schedule_R5_Price', '0.76'),\n",
       "              ('@Suspension_Schedule_RReg_Price', '11.18'),\n",
       "              ('@Suspension_Schedule_L6_Price', '0.45'),\n",
       "              ('@Suspension_Schedule_L60_Price', '1.19'),\n",
       "              ('@Suspension_Schedule_L5_Price', '0.39'),\n",
       "              ('@Suspension_Schedule_LReg_Price', '9.72')])]"
      ]
     },
     "execution_count": 5,
     "metadata": {},
     "output_type": "execute_result"
    }
   ],
   "source": [
    "regions = (casefile.get('NEMSPDCaseFile').get('NemSpdInputs')\n",
    "           .get('PeriodCollection').get('Period')\n",
    "           .get('RegionPeriodCollection').get('RegionPeriod'))\n",
    "regions"
   ]
  },
  {
   "cell_type": "markdown",
   "id": "cardiovascular-hanging",
   "metadata": {},
   "source": [
    "Once we reach the `RegionPeriod` node we encounter a list of dictionaries describing parameters for each region. We can loop through the list and update the `@DF` parameter for South Australia (i.e. the dictionary with `@RegionID == 'SA1'`)."
   ]
  },
  {
   "cell_type": "code",
   "execution_count": 6,
   "id": "lined-affairs",
   "metadata": {},
   "outputs": [],
   "source": [
    "# Updating the @DF parameter for South Australia\n",
    "for i in regions:\n",
    "    if i.get('@RegionID') == 'SA1':\n",
    "        i['@DF'] = 20"
   ]
  },
  {
   "cell_type": "markdown",
   "id": "geological-bumper",
   "metadata": {},
   "source": [
    "<span style=\"color:blue\">**Note:** By default all values within a case file are of type 'string'. Strings, floats or integers can be used when updating case file parameters as types are converted in a preprocessing step before formulating a mathematical program from the inputs. Strings should be used when updating flags e.g. parameters that take on a value of '1' or '0'.</span>\n",
    "\n",
    "Checking the value has been updated."
   ]
  },
  {
   "cell_type": "code",
   "execution_count": 7,
   "id": "alert-henry",
   "metadata": {
    "scrolled": true,
    "tags": []
   },
   "outputs": [
    {
     "data": {
      "text/plain": [
       "[OrderedDict([('@RegionID', 'NSW1'),\n",
       "              ('@DF', '50.11376953125'),\n",
       "              ('@DemandForecast', '6575.22802734375'),\n",
       "              ('@Suspension_Schedule_Energy_Price', '34.66'),\n",
       "              ('@Suspension_Schedule_R6_Price', '1.01'),\n",
       "              ('@Suspension_Schedule_R60_Price', '1.41'),\n",
       "              ('@Suspension_Schedule_R5_Price', '0.76'),\n",
       "              ('@Suspension_Schedule_RReg_Price', '11.18'),\n",
       "              ('@Suspension_Schedule_L6_Price', '0.45'),\n",
       "              ('@Suspension_Schedule_L60_Price', '1.19'),\n",
       "              ('@Suspension_Schedule_L5_Price', '0.39'),\n",
       "              ('@Suspension_Schedule_LReg_Price', '9.72')]),\n",
       " OrderedDict([('@RegionID', 'QLD1'),\n",
       "              ('@DF', '1.39823298286458'),\n",
       "              ('@DemandForecast', '5362.80249'),\n",
       "              ('@Suspension_Schedule_Energy_Price', '35.01'),\n",
       "              ('@Suspension_Schedule_R6_Price', '1.01'),\n",
       "              ('@Suspension_Schedule_R60_Price', '1.41'),\n",
       "              ('@Suspension_Schedule_R5_Price', '0.76'),\n",
       "              ('@Suspension_Schedule_RReg_Price', '11.18'),\n",
       "              ('@Suspension_Schedule_L6_Price', '0.45'),\n",
       "              ('@Suspension_Schedule_L60_Price', '1.19'),\n",
       "              ('@Suspension_Schedule_L5_Price', '0.39'),\n",
       "              ('@Suspension_Schedule_LReg_Price', '9.72')]),\n",
       " OrderedDict([('@RegionID', 'SA1'),\n",
       "              ('@DF', 20),\n",
       "              ('@DemandForecast', '1075.27025222778'),\n",
       "              ('@Suspension_Schedule_Energy_Price', '32.23'),\n",
       "              ('@Suspension_Schedule_R6_Price', '1.01'),\n",
       "              ('@Suspension_Schedule_R60_Price', '1.41'),\n",
       "              ('@Suspension_Schedule_R5_Price', '0.76'),\n",
       "              ('@Suspension_Schedule_RReg_Price', '11.18'),\n",
       "              ('@Suspension_Schedule_L6_Price', '0.39'),\n",
       "              ('@Suspension_Schedule_L60_Price', '2.93'),\n",
       "              ('@Suspension_Schedule_L5_Price', '0.37'),\n",
       "              ('@Suspension_Schedule_LReg_Price', '9.7')]),\n",
       " OrderedDict([('@RegionID', 'TAS1'),\n",
       "              ('@DF', '2.3228759765625'),\n",
       "              ('@DemandForecast', '997.246337890625'),\n",
       "              ('@Suspension_Schedule_Energy_Price', '26.84'),\n",
       "              ('@Suspension_Schedule_R6_Price', '9.46'),\n",
       "              ('@Suspension_Schedule_R60_Price', '8.99'),\n",
       "              ('@Suspension_Schedule_R5_Price', '0.91'),\n",
       "              ('@Suspension_Schedule_RReg_Price', '11.16'),\n",
       "              ('@Suspension_Schedule_L6_Price', '1.27'),\n",
       "              ('@Suspension_Schedule_L60_Price', '2.21'),\n",
       "              ('@Suspension_Schedule_L5_Price', '0.35'),\n",
       "              ('@Suspension_Schedule_LReg_Price', '9.15')]),\n",
       " OrderedDict([('@RegionID', 'VIC1'),\n",
       "              ('@DF', '49.33447265625'),\n",
       "              ('@DemandForecast', '4157.650390625'),\n",
       "              ('@Suspension_Schedule_Energy_Price', '22.54'),\n",
       "              ('@Suspension_Schedule_R6_Price', '1.01'),\n",
       "              ('@Suspension_Schedule_R60_Price', '1.41'),\n",
       "              ('@Suspension_Schedule_R5_Price', '0.76'),\n",
       "              ('@Suspension_Schedule_RReg_Price', '11.18'),\n",
       "              ('@Suspension_Schedule_L6_Price', '0.45'),\n",
       "              ('@Suspension_Schedule_L60_Price', '1.19'),\n",
       "              ('@Suspension_Schedule_L5_Price', '0.39'),\n",
       "              ('@Suspension_Schedule_LReg_Price', '9.72')])]"
      ]
     },
     "execution_count": 7,
     "metadata": {},
     "output_type": "execute_result"
    }
   ],
   "source": [
    "(casefile.get('NEMSPDCaseFile').get('NemSpdInputs')\n",
    " .get('PeriodCollection').get('Period')\n",
    " .get('RegionPeriodCollection').get('RegionPeriod'))"
   ]
  },
  {
   "cell_type": "markdown",
   "id": "affecting-perry",
   "metadata": {
    "tags": []
   },
   "source": [
    "### Submitting a modified case file\n",
    "The same steps outlined in the [previous tutorial](/nemde-api-docs/tutorials/running-a-model) can be followed to submit a job using the modified case file. An option can also be included to return the (augmented) case file."
   ]
  },
  {
   "cell_type": "code",
   "execution_count": 8,
   "id": "incident-musician",
   "metadata": {},
   "outputs": [
    {
     "data": {
      "text/plain": [
       "{'job_id': '8b8a7dc5-6048-44c8-91fb-022b3b28cc53',\n",
       " 'created_at': '2021-08-07T13:51:17.444858Z',\n",
       " 'enqueued_at': '2021-08-07T13:51:17.578846Z',\n",
       " 'timeout': 180,\n",
       " 'status': 'queued',\n",
       " 'label': None}"
      ]
     },
     "execution_count": 8,
     "metadata": {},
     "output_type": "execute_result"
    }
   ],
   "source": [
    "def submit_casefile(base_url, casefile):\n",
    "    \"\"\"Submit case file to job queue\"\"\"\n",
    "\n",
    "    # Construct request body and URL\n",
    "    body = {\n",
    "        'casefile': casefile,\n",
    "        'options': {\n",
    "            'return_casefile': True\n",
    "        }\n",
    "    }\n",
    "\n",
    "    url = base_url + 'jobs/create'\n",
    "    \n",
    "    # Send job to queue and return job meta data\n",
    "    response = requests.post(url=url, json=body)\n",
    "    \n",
    "    return response.json()\n",
    "\n",
    "\n",
    "# Submit job and inspect job info\n",
    "job_info = submit_casefile(base_url=base_url,casefile=casefile)\n",
    "job_info"
   ]
  },
  {
   "cell_type": "markdown",
   "id": "dense-truck",
   "metadata": {},
   "source": [
    "Once the model has finished solving we can access the results."
   ]
  },
  {
   "cell_type": "code",
   "execution_count": 11,
   "id": "sorted-native",
   "metadata": {},
   "outputs": [],
   "source": [
    "def get_job_results(base_url, job_id):\n",
    "    \"\"\"Extract job results from queue\"\"\"\n",
    "    \n",
    "    url = base_url + f'jobs/{job_id}/results'   \n",
    "    response = requests.get(url=url)\n",
    "    \n",
    "    return response.json()\n",
    "\n",
    "\n",
    "# Get job results from the queue\n",
    "job_id = job_info.get('job_id')\n",
    "job_results = get_job_results(base_url=base_url, job_id=job_id)"
   ]
  },
  {
   "cell_type": "markdown",
   "id": "numerous-seeker",
   "metadata": {},
   "source": [
    "The `results` key returns two nested objects: `input` corresponds to the case file submitted to the queue, while `output` is the solution returned by the worker."
   ]
  },
  {
   "cell_type": "code",
   "execution_count": 12,
   "id": "selective-laser",
   "metadata": {},
   "outputs": [
    {
     "data": {
      "text/plain": [
       "dict_keys(['input', 'output'])"
      ]
     },
     "execution_count": 12,
     "metadata": {},
     "output_type": "execute_result"
    }
   ],
   "source": [
    "job_results.get('results').keys()"
   ]
  },
  {
   "cell_type": "markdown",
   "id": "monthly-bolivia",
   "metadata": {},
   "source": [
    "We can verify the updated case file was passed to the worker by inspecting the value corresponding to `input`."
   ]
  },
  {
   "cell_type": "code",
   "execution_count": 13,
   "id": "adolescent-warner",
   "metadata": {},
   "outputs": [
    {
     "data": {
      "text/plain": [
       "[{'@RegionID': 'NSW1',\n",
       "  '@DF': '50.11376953125',\n",
       "  '@DemandForecast': '6575.22802734375',\n",
       "  '@Suspension_Schedule_Energy_Price': '34.66',\n",
       "  '@Suspension_Schedule_R6_Price': '1.01',\n",
       "  '@Suspension_Schedule_R60_Price': '1.41',\n",
       "  '@Suspension_Schedule_R5_Price': '0.76',\n",
       "  '@Suspension_Schedule_RReg_Price': '11.18',\n",
       "  '@Suspension_Schedule_L6_Price': '0.45',\n",
       "  '@Suspension_Schedule_L60_Price': '1.19',\n",
       "  '@Suspension_Schedule_L5_Price': '0.39',\n",
       "  '@Suspension_Schedule_LReg_Price': '9.72'},\n",
       " {'@RegionID': 'QLD1',\n",
       "  '@DF': '1.39823298286458',\n",
       "  '@DemandForecast': '5362.80249',\n",
       "  '@Suspension_Schedule_Energy_Price': '35.01',\n",
       "  '@Suspension_Schedule_R6_Price': '1.01',\n",
       "  '@Suspension_Schedule_R60_Price': '1.41',\n",
       "  '@Suspension_Schedule_R5_Price': '0.76',\n",
       "  '@Suspension_Schedule_RReg_Price': '11.18',\n",
       "  '@Suspension_Schedule_L6_Price': '0.45',\n",
       "  '@Suspension_Schedule_L60_Price': '1.19',\n",
       "  '@Suspension_Schedule_L5_Price': '0.39',\n",
       "  '@Suspension_Schedule_LReg_Price': '9.72'},\n",
       " {'@RegionID': 'SA1',\n",
       "  '@DF': 20,\n",
       "  '@DemandForecast': '1075.27025222778',\n",
       "  '@Suspension_Schedule_Energy_Price': '32.23',\n",
       "  '@Suspension_Schedule_R6_Price': '1.01',\n",
       "  '@Suspension_Schedule_R60_Price': '1.41',\n",
       "  '@Suspension_Schedule_R5_Price': '0.76',\n",
       "  '@Suspension_Schedule_RReg_Price': '11.18',\n",
       "  '@Suspension_Schedule_L6_Price': '0.39',\n",
       "  '@Suspension_Schedule_L60_Price': '2.93',\n",
       "  '@Suspension_Schedule_L5_Price': '0.37',\n",
       "  '@Suspension_Schedule_LReg_Price': '9.7'},\n",
       " {'@RegionID': 'TAS1',\n",
       "  '@DF': '2.3228759765625',\n",
       "  '@DemandForecast': '997.246337890625',\n",
       "  '@Suspension_Schedule_Energy_Price': '26.84',\n",
       "  '@Suspension_Schedule_R6_Price': '9.46',\n",
       "  '@Suspension_Schedule_R60_Price': '8.99',\n",
       "  '@Suspension_Schedule_R5_Price': '0.91',\n",
       "  '@Suspension_Schedule_RReg_Price': '11.16',\n",
       "  '@Suspension_Schedule_L6_Price': '1.27',\n",
       "  '@Suspension_Schedule_L60_Price': '2.21',\n",
       "  '@Suspension_Schedule_L5_Price': '0.35',\n",
       "  '@Suspension_Schedule_LReg_Price': '9.15'},\n",
       " {'@RegionID': 'VIC1',\n",
       "  '@DF': '49.33447265625',\n",
       "  '@DemandForecast': '4157.650390625',\n",
       "  '@Suspension_Schedule_Energy_Price': '22.54',\n",
       "  '@Suspension_Schedule_R6_Price': '1.01',\n",
       "  '@Suspension_Schedule_R60_Price': '1.41',\n",
       "  '@Suspension_Schedule_R5_Price': '0.76',\n",
       "  '@Suspension_Schedule_RReg_Price': '11.18',\n",
       "  '@Suspension_Schedule_L6_Price': '0.45',\n",
       "  '@Suspension_Schedule_L60_Price': '1.19',\n",
       "  '@Suspension_Schedule_L5_Price': '0.39',\n",
       "  '@Suspension_Schedule_LReg_Price': '9.72'}]"
      ]
     },
     "execution_count": 13,
     "metadata": {},
     "output_type": "execute_result"
    }
   ],
   "source": [
    "(job_results.get('results').get('input')\n",
    " .get('NEMSPDCaseFile').get('NemSpdInputs')\n",
    " .get('PeriodCollection').get('Period')\n",
    " .get('RegionPeriodCollection').get('RegionPeriod'))"
   ]
  },
  {
   "cell_type": "markdown",
   "id": "deluxe-programmer",
   "metadata": {},
   "source": [
    "We can see our update is reflected in the case file consumed by the worker."
   ]
  },
  {
   "cell_type": "markdown",
   "id": "upper-paragraph",
   "metadata": {},
   "source": [
    "## Method 2 - Using JSON path syntax\n",
    "\n",
    "While the previous method is quite intuitive, it is not very robust - it's to lose track of which values have been updated when using loops. An alternative is to search and update the case file dictionary using JSON path syntax. Rather than loop through a list, expressions can be specified to find and update specific elements. See [jsonpath-ng](https://github.com/h2non/jsonpath-ng) to learn more about the syntax.\n",
    "\n",
    "An expression targeting the `@DF` parameter for South Australia can be formulated as follows:"
   ]
  },
  {
   "cell_type": "code",
   "execution_count": 14,
   "id": "recreational-soldier",
   "metadata": {
    "scrolled": true
   },
   "outputs": [],
   "source": [
    "# Path to South Australia region period parameters\n",
    "expression = (\"NEMSPDCaseFile \\\n",
    "              .NemSpdInputs \\\n",
    "              .PeriodCollection \\\n",
    "              .Period \\\n",
    "              .RegionPeriodCollection \\\n",
    "              .RegionPeriod[?(@RegionID=='SA1')] \\\n",
    "              .@DF\")"
   ]
  },
  {
   "cell_type": "markdown",
   "id": "divided-russell",
   "metadata": {},
   "source": [
    "Note this expression corresponds to the path outlined on the [parameter reference page](/nemde-api-docs/parameter-reference/#demand-forecast). When seeking to update parameters users can consult this document to find paths corresponding to parameters of interest. \n",
    "\n",
    "The following functions can be used to get and update parameters using a JSON path expression."
   ]
  },
  {
   "cell_type": "code",
   "execution_count": 15,
   "id": "eleven-heritage",
   "metadata": {},
   "outputs": [],
   "source": [
    "def get_casefile_parameter(casefile, expression):\n",
    "    \"\"\"\n",
    "    Get parameter given a case file and JSON path expression\n",
    "    \n",
    "    Parameters\n",
    "    ----------\n",
    "    casefile : dict\n",
    "        System parameters\n",
    "    \n",
    "    expression : str\n",
    "        JSON path expression to value or object that should be\n",
    "        extracted\n",
    "        \n",
    "    Returns\n",
    "    -------\n",
    "    Value corresponding to JSON path expression.    \n",
    "    \"\"\"\n",
    "\n",
    "    jsonpath_expr = parse(expression)\n",
    "    values = [match.value for match in jsonpath_expr.find(casefile)]\n",
    "    \n",
    "    # Check only one match found\n",
    "    if len(values) != 1:\n",
    "        raise Exception(f'Expected 1 match, encountered {len(values)}')\n",
    "        \n",
    "    return values[0]\n",
    "\n",
    "\n",
    "def update_casefile_parameter(casefile, expression, new_value):\n",
    "    \"\"\"\n",
    "    Update case file parameter\n",
    "    \n",
    "    Parameters\n",
    "    ----------\n",
    "    casefile : dict\n",
    "        System parameters\n",
    "    \n",
    "    expression : str\n",
    "        JSON path to value or object that should be updated\n",
    "    \n",
    "    new_value : str, float, or int\n",
    "        New value for parameter\n",
    "    \n",
    "    Returns\n",
    "    -------\n",
    "    casefile : dict\n",
    "        Updated case file\n",
    "    \"\"\"\n",
    "\n",
    "    jsonpath_expr = parse(expression)\n",
    "    values = [match.value for match in jsonpath_expr.find(casefile)]\n",
    "    \n",
    "    # Check only one match found\n",
    "    if len(values) != 1:\n",
    "        raise Exception(f'Expected 1 match, encountered {len(values)}')\n",
    "    \n",
    "    # Update case file\n",
    "    jsonpath_expr.update(casefile, new_value)\n",
    "    \n",
    "    return casefile"
   ]
  },
  {
   "cell_type": "markdown",
   "id": "diverse-chair",
   "metadata": {},
   "source": [
    "Let's get the value of South Australia's `@DF` parameter."
   ]
  },
  {
   "cell_type": "code",
   "execution_count": 16,
   "id": "active-clearance",
   "metadata": {},
   "outputs": [
    {
     "data": {
      "text/plain": [
       "20"
      ]
     },
     "execution_count": 16,
     "metadata": {},
     "output_type": "execute_result"
    }
   ],
   "source": [
    "get_casefile_parameter(casefile=casefile, expression=expression)"
   ]
  },
  {
   "cell_type": "markdown",
   "id": "solar-province",
   "metadata": {},
   "source": [
    "Similarly, we can update values given an expression."
   ]
  },
  {
   "cell_type": "code",
   "execution_count": 17,
   "id": "dental-harvest",
   "metadata": {},
   "outputs": [
    {
     "data": {
      "text/plain": [
       "60"
      ]
     },
     "execution_count": 17,
     "metadata": {},
     "output_type": "execute_result"
    }
   ],
   "source": [
    "# Update @DF parameter for SA1 - set @DF = 60\n",
    "casefile = update_casefile_parameter(casefile=casefile, expression=expression, new_value=60)\n",
    "\n",
    "# Check the value has been updated\n",
    "get_casefile_parameter(casefile=casefile, expression=expression)"
   ]
  },
  {
   "cell_type": "markdown",
   "id": "monetary-characterization",
   "metadata": {},
   "source": [
    "## Summary\n",
    "We've explored two ways to update case file parameters. The first method can be useful if seeking to explore a case file's structure, and augment parameters in an ad hoc manner. The second method is more precise in its ability to target specific parameters within a case file as it avoids the use of loops. The following tutorials will build upon these tools when conducting scenario analyses using the Dispatch API."
   ]
  }
 ],
 "metadata": {
  "kernelspec": {
   "display_name": "python39",
   "language": "python",
   "name": "python39"
  },
  "language_info": {
   "codemirror_mode": {
    "name": "ipython",
    "version": 3
   },
   "file_extension": ".py",
   "mimetype": "text/x-python",
   "name": "python",
   "nbconvert_exporter": "python",
   "pygments_lexer": "ipython3",
   "version": "3.9.2"
  }
 },
 "nbformat": 4,
 "nbformat_minor": 5
}
