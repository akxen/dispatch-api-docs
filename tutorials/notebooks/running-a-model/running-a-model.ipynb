{
 "cells": [
  {
   "cell_type": "markdown",
   "id": "afraid-medicare",
   "metadata": {},
   "source": [
    "# Running a model\n",
    "An online queue is used to coordinate the task of formulating and solving mathematical programs. Users submit parameters to the queue which creates a new 'job'. A pool of 'workers' monitor this queue for new jobs. If a worker is available (i.e. it is not currently processing a job) it will pick the job off the queue and then formulate and solve a mathematical program using the inputs provided. The worker then posts the optimisation model's results back to the queue, and marks the job as 'finished'. Results can then be accessed by the user.\n",
    "\n",
    "This notebook describes how to submit a case file parameters and retrieve results from the queue.\n",
    "\n",
    "## Imports and authentication"
   ]
  },
  {
   "cell_type": "code",
   "execution_count": 1,
   "id": "nutritional-portal",
   "metadata": {},
   "outputs": [],
   "source": [
    "import os\n",
    "import json\n",
    "\n",
    "import requests\n",
    "import xmltodict\n",
    "import pandas as pd\n",
    "\n",
    "import IPython.display as display"
   ]
  },
  {
   "cell_type": "markdown",
   "id": "fitted-london",
   "metadata": {},
   "source": [
    "First specify the base URL for API calls."
   ]
  },
  {
   "cell_type": "code",
   "execution_count": 2,
   "id": "ecological-performer",
   "metadata": {},
   "outputs": [],
   "source": [
    "# Base URL endpoint for the Dispatch API\n",
    "base_url = 'http://nemde-api-host:8080/api/v1/'"
   ]
  },
  {
   "cell_type": "markdown",
   "id": "indoor-devices",
   "metadata": {},
   "source": [
    "## Load case file\n",
    "Case files contain parameters used by the NEMDE when determining dispatch targets for generators and loads. The API uses selected inputs from these case files when formulating a mathematical program that approximates the NEMDE's operation (see the [parameter reference page](/parameter-reference) for a description of the inputs used).\n",
    "\n",
    "Each case file is identified by a case ID, e.g. `20201101001`, which has the following format:\n",
    "\n",
    "```\n",
    "{year}{month}{day}{interval_id}\n",
    "```\n",
    "\n",
    "Interval IDs range from 001-288 and are used to identify each 5 minute interval within a 24 hour period. \n",
    "\n",
    "As each trading day begins at 4.00am, the case ID `20201101001` corresponds to the trading interval which starts at `2020-11-01 04:00:00` and ends at `2020-11-01 04:05:00`. When NEMDE is run at approximately `04:00:00` it produces dispatch targets that generators and loads should meet at `04:05:00`. The following table illustrates the mapping between case IDs and the start and end times for selected dispatch intervals.\n",
    "\n",
    "\n",
    "| Case ID | Interval start | Interval end |\n",
    "| :------: | :-------------: | :-----------: |\n",
    "| 20201101001 | 2020-11-01 04:00:00 | 2020-11-01 04:05:00 |\n",
    "| 20201101002 | 2020-11-01 04:05:00 | 2020-11-01 04:10:00 |\n",
    "| 20201101003 | 2020-11-01 04:10:00 | 2020-11-01 04:15:00 |\n",
    "| ... | ... | ... |\n",
    "| 20201101287 | 2020-11-02 03:50:00 | 2020-11-02 03:55:00 |\n",
    "| 20201101288 | 2020-11-02 03:55:00 | 2020-11-02 04:00:00 |\n",
    "\n",
    "\n",
    "The following function loads a case file in XML format and converts it to a Python dictionary."
   ]
  },
  {
   "cell_type": "code",
   "execution_count": 3,
   "id": "endangered-logic",
   "metadata": {},
   "outputs": [],
   "source": [
    "def convert_casefile(path_to_file):\n",
    "    \"\"\"Load a historical NEMDE case file and convert it to a dict\"\"\"\n",
    "    \n",
    "    # Read case file contents\n",
    "    with open(path_to_file, 'r') as f:\n",
    "        casefile = f.read()\n",
    "    \n",
    "    # Force these nodes to always return lists\n",
    "    force_list = ('Trade', 'TradeTypePriceStructure',)\n",
    "\n",
    "    return xmltodict.parse(casefile, force_list=force_list)\n",
    "\n",
    "casefile = convert_casefile('../../data/NEMSPDOutputs_2021040100100.loaded')"
   ]
  },
  {
   "cell_type": "markdown",
   "id": "adopted-blond",
   "metadata": {},
   "source": [
    "## Case file components\n",
    "Case files describe the state of the system at the start of a dispatch interval, and also include forecasts for demand and intermittent generation at the end of the interval. A nested data structure, in this case a Python dictionary, organises data into logical components.\n",
    "\n",
    "Those familiar with NEMDE case files in XML format may recognise the following data structure. In fact, the dictionary is obtained by converting a NEMDE case file in XML format to a Python dictionary. See [this tutorial](/tutorials/converting-a-case-file) to learn how to convert your own NEMDE XML files into a format that can be consumed by the Dispatch API.\n",
    "\n",
    "At the dictionary's root there is a single key, `NEMSPDCaseFile`:"
   ]
  },
  {
   "cell_type": "code",
   "execution_count": 4,
   "id": "manufactured-metabolism",
   "metadata": {},
   "outputs": [
    {
     "data": {
      "text/plain": [
       "odict_keys(['NEMSPDCaseFile'])"
      ]
     },
     "execution_count": 4,
     "metadata": {},
     "output_type": "execute_result"
    }
   ],
   "source": [
    "casefile.keys()"
   ]
  },
  {
   "cell_type": "markdown",
   "id": "congressional-administration",
   "metadata": {},
   "source": [
    "The dictionary can be traversed by 'getting' the value for a given key, in this case `NEMSPDCaseFile`, and looking at its constituent components. Here we can see there are three nested keys:"
   ]
  },
  {
   "cell_type": "code",
   "execution_count": 5,
   "id": "induced-adapter",
   "metadata": {},
   "outputs": [
    {
     "data": {
      "text/plain": [
       "odict_keys(['NemSpdInputs', 'NemSpdOutputs', 'SolutionAnalysis'])"
      ]
     },
     "execution_count": 5,
     "metadata": {},
     "output_type": "execute_result"
    }
   ],
   "source": [
    "casefile.get('NEMSPDCaseFile').keys()"
   ]
  },
  {
   "cell_type": "markdown",
   "id": "interstate-liabilities",
   "metadata": {},
   "source": [
    "| Key | Description |\n",
    "| :--------- | :----------- |\n",
    "| NemSpdInputs | Parameters describing the system's state |\n",
    "| NemSpdOutputs | NEMDE solution for each trader (generator / load), generic constraint, interconnector, and region |\n",
    "| SolutionAnalysis | Price setting results |"
   ]
  },
  {
   "cell_type": "markdown",
   "id": "geological-sigma",
   "metadata": {},
   "source": [
    "While NEMDE case files provide a convenient data structure describing parameters used to set dispatch targets, there are a limitations associated with their design. For instance, some parameters are duplicated, while others may be ignored. Users seeking to modify case files should consult the [parameter reference page](/parameter-reference) to see which parameters can be meaningfully modified when using the Dispatch API.\n",
    "\n",
    "## Submitting a job\n",
    "For now let's run the case file without modifying any of its components. The body of the request is simply a dictionary with ``\"casefile\"`` as the key, and the case file dictionay as its corresponding value:\n",
    "\n",
    "```\n",
    "body = {\"casefile\": casefile}\n",
    "```\n",
    "\n",
    "A POST request is submitted to `https://dispatch.envector.com/api/v1/jobs/create`\n",
    "\n",
    "The response contains information pertaining to the newly created job, including a job ID which will be used when querying results once they become available."
   ]
  },
  {
   "cell_type": "code",
   "execution_count": 6,
   "id": "analyzed-setup",
   "metadata": {},
   "outputs": [
    {
     "data": {
      "text/plain": [
       "{'job_id': '77b379d4-26e6-401b-8152-ca2e5482c658',\n",
       " 'created_at': '2021-08-07T13:38:20.741817Z',\n",
       " 'enqueued_at': '2021-08-07T13:38:20.884427Z',\n",
       " 'timeout': 180,\n",
       " 'status': 'queued',\n",
       " 'label': None}"
      ]
     },
     "execution_count": 6,
     "metadata": {},
     "output_type": "execute_result"
    }
   ],
   "source": [
    "def submit_casefile(base_url, casefile):\n",
    "    \"\"\"Submit case file to the job queue\"\"\"\n",
    "\n",
    "    # Construct request body and URL\n",
    "    body = {'casefile': casefile}\n",
    "    url = base_url + 'jobs/create'\n",
    "    \n",
    "    # Send job to queue and return job meta data\n",
    "    response = requests.post(url=url, json=body)\n",
    "    \n",
    "    return response.json()\n",
    "\n",
    "\n",
    "# Submit job and inspect meta data\n",
    "job_info = submit_casefile(base_url=base_url, casefile=casefile)\n",
    "job_info"
   ]
  },
  {
   "cell_type": "markdown",
   "id": "passive-strength",
   "metadata": {},
   "source": [
    "A pool of workers monitor the queue to which the job is posted. If a worker is available it will formulate and run the optimisation model using the inputs provided. Results are then posted back to the queue for retrieval by the user. \n",
    "\n",
    "The following URLs become available once a job has been submitted, allowing users to check the job's status, examine job results, or delete the job:\n",
    "\n",
    "| URL | Description |\n",
    "| :--- | :----------- |\n",
    "| `http://nemde-api-host/api/v1/jobs/{job_id}/status` | Get job status |\n",
    "| `http://nemde-api-host/api/v1/jobs/{job_id}/results` | Get job results |\n",
    "| `http://nemde-api-host/api/v1/jobs/{job_id}/delete` | Delete job |\n",
    "\n",
    "For example, if the job ID is `04c66262-6144-444d-98bf-00c21cb955dd`, the URL to get the job's status would be:\n",
    "\n",
    "```\n",
    "http://nemde-api-host/api/v1/jobs/04c66262-6144-444d-98bf-00c21cb955dd/status\n",
    "```\n",
    "\n",
    "Let's check the job's status."
   ]
  },
  {
   "cell_type": "code",
   "execution_count": 7,
   "id": "checked-pakistan",
   "metadata": {},
   "outputs": [
    {
     "data": {
      "text/plain": [
       "{'job_id': '77b379d4-26e6-401b-8152-ca2e5482c658',\n",
       " 'status': 'started',\n",
       " 'created_at': '2021-08-07T13:38:20.741817',\n",
       " 'enqueued_at': '2021-08-07T13:38:20.884427',\n",
       " 'started_at': '2021-08-07T13:38:21.221078',\n",
       " 'ended_at': None,\n",
       " 'timeout': 180,\n",
       " 'label': None}"
      ]
     },
     "execution_count": 7,
     "metadata": {},
     "output_type": "execute_result"
    }
   ],
   "source": [
    "def check_job_status(base_url, job_id):\n",
    "    \"\"\"Check job status given a job ID\"\"\"\n",
    "    \n",
    "    url = base_url + f'jobs/{job_id}/status'\n",
    "\n",
    "    return requests.get(url=url).json()\n",
    "\n",
    "\n",
    "# Check job status\n",
    "job_id = job_info.get('job_id')\n",
    "check_job_status(base_url=base_url, job_id=job_id)"
   ]
  },
  {
   "cell_type": "markdown",
   "id": "electronic-federation",
   "metadata": {},
   "source": [
    "We can see a worker has started to process the job. It typically takes 30s for a worker to complete a job once started. After waiting a short period we can check the status again."
   ]
  },
  {
   "cell_type": "code",
   "execution_count": 8,
   "id": "comfortable-cross",
   "metadata": {},
   "outputs": [
    {
     "data": {
      "text/plain": [
       "{'job_id': '77b379d4-26e6-401b-8152-ca2e5482c658',\n",
       " 'status': 'finished',\n",
       " 'created_at': '2021-08-07T13:38:20.741817',\n",
       " 'enqueued_at': '2021-08-07T13:38:20.884427',\n",
       " 'started_at': '2021-08-07T13:38:21.386579',\n",
       " 'ended_at': '2021-08-07T13:39:12.951867',\n",
       " 'timeout': 180,\n",
       " 'label': None}"
      ]
     },
     "execution_count": 8,
     "metadata": {},
     "output_type": "execute_result"
    }
   ],
   "source": [
    "check_job_status(base_url=base_url, job_id=job_id)"
   ]
  },
  {
   "cell_type": "markdown",
   "id": "impaired-excerpt",
   "metadata": {},
   "source": [
    "## Retrieving results\n",
    "Once the job has finished we can access its results."
   ]
  },
  {
   "cell_type": "code",
   "execution_count": 9,
   "id": "adjusted-motor",
   "metadata": {},
   "outputs": [],
   "source": [
    "def get_job_results(base_url, job_id):\n",
    "    \"\"\"Extract job results from the queue\"\"\"\n",
    "    \n",
    "    url = base_url + f'jobs/{job_id}/results'   \n",
    "    response = requests.get(url=url)\n",
    "    \n",
    "    return response.json()\n",
    "\n",
    "\n",
    "# Get job results from the queue\n",
    "results = get_job_results(base_url=base_url, job_id=job_id)"
   ]
  },
  {
   "cell_type": "markdown",
   "id": "ancient-image",
   "metadata": {},
   "source": [
    "<span style=\"color:red\">Note: completed jobs are only retained in the queue for 2 hours, at which point the job (and results) are deleted.</span>\n",
    "\n",
    "The value corresponding to the `results` key contains the solution reported by the worker. Let's use Pandas to examine the output."
   ]
  },
  {
   "cell_type": "code",
   "execution_count": 10,
   "id": "natural-hampshire",
   "metadata": {},
   "outputs": [
    {
     "data": {
      "text/markdown": [
       "| @RegionID   |     @CaseID |   @Intervention |   @EnergyPrice |   @DispatchedGeneration |   @DispatchedLoad |   @FixedDemand |   @NetExport |   @SurplusGeneration |   @R6Dispatch |   @R60Dispatch |   @R5Dispatch |   @R5RegDispatch |   @L6Dispatch |   @L60Dispatch |   @L5Dispatch |   @L5RegDispatch |   @ClearedDemand |\n",
       "|:------------|------------:|----------------:|---------------:|------------------------:|------------------:|---------------:|-------------:|---------------------:|--------------:|---------------:|--------------:|-----------------:|--------------:|---------------:|--------------:|-----------------:|-----------------:|\n",
       "| NSW1        | 20210401001 |               0 |        38.2172 |                5127.54  |               200 |        6330.79 |    -1403.26  |                    0 |       261     |       251      |       141     |             88   |        91     |        142     |       67      |           33     |         6576.14  |\n",
       "| QLD1        | 20210401001 |               0 |        32.25   |                6278.72  |                 0 |        5322.13 |      956.591 |                    0 |        75     |        53      |       107.915 |             23.2 |         0     |          0     |        0      |           59.875 |         5362.13  |\n",
       "| SA1         | 20210401001 |               0 |        37.2465 |                 810.756 |                10 |        1065.3  |     -264.539 |                    0 |       142.829 |        77.5837 |       121     |             54.8 |       137     |         69     |       86      |           57.125 |         1077.47  |\n",
       "| TAS1        | 20210401001 |               0 |        31.7702 |                1224.95  |                 0 |         991.98 |      232.971 |                    0 |        33     |        82.2457 |         0     |             49   |        56.166 |        152.495 |       50      |           50     |          996.513 |\n",
       "| VIC1        | 20210401001 |               0 |        34.4678 |                4729.57  |                 0 |        4134.2  |      595.377 |                    0 |       105     |       153      |        98     |              5   |        25     |         31     |       52.5805 |           10     |         4159.28  |"
      ],
      "text/plain": [
       "<IPython.core.display.Markdown object>"
      ]
     },
     "execution_count": 10,
     "metadata": {},
     "output_type": "execute_result"
    }
   ],
   "source": [
    "region_solution = results.get('results').get('output').get('RegionSolution')\n",
    "\n",
    "# Convert to markdown to display results\n",
    "region_solution_md = pd.DataFrame(region_solution).to_markdown(index=False)\n",
    "display.Markdown(region_solution_md)"
   ]
  },
  {
   "cell_type": "code",
   "execution_count": 11,
   "id": "suspected-homework",
   "metadata": {},
   "outputs": [
    {
     "data": {
      "text/markdown": [
       "| @InterconnectorID   |     @CaseID |   @Intervention |    @Flow |   @Losses |   @Deficit |\n",
       "|:--------------------|------------:|----------------:|---------:|----------:|-----------:|\n",
       "| N-Q-MNSP1           | 20210401001 |               0 |  -97     |  5.32865  |          0 |\n",
       "| NSW1-QLD1           | 20210401001 |               0 | -819.585 | 65.3249   |          0 |\n",
       "| T-V-MNSP1           | 20210401001 |               0 |  228.438 |  4.53231  |          0 |\n",
       "| V-S-MNSP1           | 20210401001 |               0 |   63     |  0.102114 |          0 |\n",
       "| V-SA                | 20210401001 |               0 |  203.717 |  8.27106  |          0 |\n",
       "| VIC1-NSW1           | 20210401001 |               0 |  532.012 | 24.9029   |          0 |"
      ],
      "text/plain": [
       "<IPython.core.display.Markdown object>"
      ]
     },
     "execution_count": 11,
     "metadata": {},
     "output_type": "execute_result"
    }
   ],
   "source": [
    "interconnector_solution = results.get('results').get('output').get('InterconnectorSolution')\n",
    "\n",
    "# Convert to markdown to display results\n",
    "interconnector_solution_md = pd.DataFrame(interconnector_solution).to_markdown(index=False)\n",
    "display.Markdown(interconnector_solution_md)"
   ]
  },
  {
   "cell_type": "code",
   "execution_count": 12,
   "id": "valid-kitchen",
   "metadata": {},
   "outputs": [
    {
     "data": {
      "text/markdown": [
       "| @TraderID   |     @CaseID |   @Intervention |   @EnergyTarget |   @R6Target |   @R60Target |   @R5Target |   @R5RegTarget |   @L6Target |   @L60Target |   @L5Target |   @L5RegTarget |   @R6Violation |   @R60Violation |   @R5Violation |   @R5RegViolation |   @L6Violation |   @L60Violation |   @L5Violation |   @L5RegViolation |   @RampUpRate |   @RampDnRate |   @FSTargetMode |\n",
       "|:------------|------------:|----------------:|----------------:|------------:|-------------:|------------:|---------------:|------------:|-------------:|------------:|---------------:|---------------:|----------------:|---------------:|------------------:|---------------:|----------------:|---------------:|------------------:|--------------:|--------------:|----------------:|\n",
       "| AGLHAL      | 20210401001 |               0 |               0 |           0 |            0 |           0 |              0 |           0 |            0 |           0 |              0 |              0 |               0 |              0 |                 0 |              0 |               0 |              0 |                 0 |           720 |           720 |               0 |\n",
       "| AGLSOM      | 20210401001 |               0 |               0 |           0 |            0 |           0 |              0 |           0 |            0 |           0 |              0 |              0 |               0 |              0 |                 0 |              0 |               0 |              0 |                 0 |           480 |           480 |               0 |\n",
       "| ANGAST1     | 20210401001 |               0 |               0 |           0 |            0 |           0 |              0 |           0 |            0 |           0 |              0 |              0 |               0 |              0 |                 0 |              0 |               0 |              0 |                 0 |           840 |           840 |             nan |\n",
       "| APD01       | 20210401001 |               0 |               0 |          31 |           90 |          45 |              0 |           0 |            0 |           0 |              0 |              0 |               0 |              0 |                 0 |              0 |               0 |              0 |                 0 |           nan |           nan |             nan |\n",
       "| ARWF1       | 20210401001 |               0 |               0 |           0 |            0 |           0 |              0 |           0 |            0 |           0 |              0 |              0 |               0 |              0 |                 0 |              0 |               0 |              0 |                 0 |          1200 |           600 |             nan |"
      ],
      "text/plain": [
       "<IPython.core.display.Markdown object>"
      ]
     },
     "execution_count": 12,
     "metadata": {},
     "output_type": "execute_result"
    }
   ],
   "source": [
    "trader_solution = results.get('results').get('output').get('TraderSolution')\n",
    "\n",
    "# Convert to markdown to display results\n",
    "trader_solution_md = pd.DataFrame(trader_solution).head().to_markdown(index=False)\n",
    "display.Markdown(trader_solution_md)"
   ]
  },
  {
   "cell_type": "markdown",
   "id": "straight-contributor",
   "metadata": {},
   "source": [
    "## Summary\n",
    "This tutorial demonstrates the basic functionality of the Dispatch API. Two key components have been introduced: the ability to interact with historical case files, and methods that facilitate interaction with an online queue. Future tutorials will discuss how to modify case files, perform scenario analyses, and also introduce more advanced workflows using additional Dispatch API features."
   ]
  }
 ],
 "metadata": {
  "kernelspec": {
   "display_name": "python39",
   "language": "python",
   "name": "python39"
  },
  "language_info": {
   "codemirror_mode": {
    "name": "ipython",
    "version": 3
   },
   "file_extension": ".py",
   "mimetype": "text/x-python",
   "name": "python",
   "nbconvert_exporter": "python",
   "pygments_lexer": "ipython3",
   "version": "3.9.2"
  }
 },
 "nbformat": 4,
 "nbformat_minor": 5
}
