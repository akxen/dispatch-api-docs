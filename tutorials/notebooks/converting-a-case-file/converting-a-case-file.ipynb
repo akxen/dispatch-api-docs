{
 "cells": [
  {
   "cell_type": "markdown",
   "id": "interracial-trout",
   "metadata": {},
   "source": [
    "# Converting a case file\n",
    "\n",
    "Historical NEMDE case files are easily converted into a format that can be consumed by the Dispatch API by using the following code snippet."
   ]
  },
  {
   "cell_type": "code",
   "execution_count": 1,
   "id": "exclusive-yugoslavia",
   "metadata": {},
   "outputs": [
    {
     "data": {
      "text/plain": [
       "odict_keys(['NemSpdInputs', 'NemSpdOutputs', 'SolutionAnalysis'])"
      ]
     },
     "execution_count": 1,
     "metadata": {},
     "output_type": "execute_result"
    }
   ],
   "source": [
    "import xmltodict\n",
    "\n",
    "\n",
    "def convert_casefile(path_to_file):\n",
    "    \"\"\"Load a historical NEMDE case file and convert it to a dict\"\"\"\n",
    "    \n",
    "    # Read case file contents\n",
    "    with open(path_to_file, 'r') as f:\n",
    "        casefile = f.read()\n",
    "    \n",
    "    # Force these nodes to always return lists\n",
    "    force_list = ('Trade', 'TradeTypePriceStructure',)\n",
    "\n",
    "    return xmltodict.parse(casefile, force_list=force_list)\n",
    "\n",
    "\n",
    "# Example NEMDE case file\n",
    "path_to_file = '../../data/NEMSPDOutputs_2021040100100.loaded'\n",
    "\n",
    "# Case file loaded as a Python dictionary\n",
    "converted_casefile = convert_casefile(path_to_file=path_to_file)\n",
    "\n",
    "converted_casefile.get('NEMSPDCaseFile').keys()"
   ]
  },
  {
   "cell_type": "markdown",
   "id": "worthy-perception",
   "metadata": {},
   "source": [
    "Note that historical case files have a `.loaded` suffix, with data within these files organised in XML format."
   ]
  }
 ],
 "metadata": {
  "kernelspec": {
   "display_name": "python39",
   "language": "python",
   "name": "python39"
  },
  "language_info": {
   "codemirror_mode": {
    "name": "ipython",
    "version": 3
   },
   "file_extension": ".py",
   "mimetype": "text/x-python",
   "name": "python",
   "nbconvert_exporter": "python",
   "pygments_lexer": "ipython3",
   "version": "3.9.2"
  }
 },
 "nbformat": 4,
 "nbformat_minor": 5
}
